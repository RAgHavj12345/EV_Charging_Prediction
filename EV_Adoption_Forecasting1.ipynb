{
 "cells": [
  {
   "cell_type": "markdown",
   "metadata": {
    "id": "ehixESohweWf"
   },
   "source": [
    "## EV Adoption Forecasting\n",
    "As electric vehicle (EV) adoption surges, urban planners need to anticipate infrastructure needs—especially charging stations. Inadequate planning can lead to bottlenecks, impacting user satisfaction and hindering sustainability goals.\n",
    "\n",
    "**Problem Statement:** Using the electric vehicle dataset (which includes information on EV populations, vehicle types, and possibly historical charging usage), create a model to forecast future EV adoption. For example, predict the number of electric vehicles in upcoming years based on the trends in the data.\n",
    "\n",
    "**Goal:** Build a regression model that forecasts future EV adoption demand based on historical trends in EV growth, types of vehicles, and regional data.\n",
    "\n",
    "**Dataset:** This dataset shows the number of vehicles that were registered by Washington State Department of Licensing (DOL) each month. The data is separated by county for passenger vehicles and trucks.\n",
    "\n",
    "- Date: Counts of registered vehicles are taken on this day (the end of this month). - 2017-01-31\n",
    "2024-02-29\n",
    "- County: This is the geographic region of a state that a vehicle's owner is listed to reside within. Vehicles registered in Washington\n",
    "- State: This is the geographic region of the country associated with the record. These addresses may be located in other\n",
    "- Vehicle Primary Use: This describes the primary intended use of the vehicle.(Passenger-83%, Truck-17%)\n",
    "- Battery Electric Vehicles (BEVs): The count of vehicles that are known to be propelled solely by an energy derived from an onboard electric battery.\n",
    "- Plug-In Hybrid Electric Vehicles (PHEVs): The count of vehicles that are known to be propelled from energy partially sourced from an onboard electric battery\n",
    "- Electric Vehicle (EV) Total: The sum of Battery Electric Vehicles (BEVs) and Plug-in Hybrid Electric Vehicles (PHEVs).\n",
    "- Non-Electric Vehicle Total: The count of vehicles that are not electric vehicles.\n",
    "- Total Vehicles: All powered vehicles registered in the county. This includes electric vehicles.\n",
    "- Percent Electric Vehicles: Comparison of electric vehicles versus their non-electric counterparts.\n",
    "\n",
    "**Dataset Link:** https://www.kaggle.com/datasets/sahirmaharajj/electric-vehicle-population-size-2024/data"
   ]
  },
  {
   "cell_type": "markdown",
   "metadata": {
    "id": "QbTMxiWLwu3f"
   },
   "source": [
    "### Import Required Libraries"
   ]
  },
  {
   "cell_type": "code",
   "execution_count": 1,
   "metadata": {
    "id": "NBiyEbTKv90E"
   },
   "outputs": [],
   "source": [
    "import joblib\n",
    "import numpy as np\n",
    "import pandas as pd\n",
    "import seaborn as sns\n",
    "import matplotlib.pyplot as plt\n",
    "from sklearn.preprocessing import LabelEncoder\n",
    "from sklearn.ensemble import RandomForestRegressor\n",
    "from sklearn.model_selection import train_test_split\n",
    "from sklearn.model_selection import RandomizedSearchCV\n",
    "from sklearn.metrics import mean_absolute_error, mean_squared_error, r2_score"
   ]
  },
  {
   "cell_type": "markdown",
   "metadata": {
    "id": "Y759bVGNw7Nn"
   },
   "source": [
    "### Load Dataset"
   ]
  },
  {
   "cell_type": "code",
   "execution_count": 2,
   "metadata": {
    "id": "S23gy9mBw6kA"
   },
   "outputs": [],
   "source": [
    "# Load data\n",
    "df = pd.read_csv(r\"Electric_Vehicle_Population_By_County.csv\")"
   ]
  },
  {
   "cell_type": "markdown",
   "metadata": {
    "id": "pY_gBbyexa5Q"
   },
   "source": [
    "### Explore and Understand the Data"
   ]
  },
  {
   "cell_type": "code",
   "execution_count": 4,
   "metadata": {
    "colab": {
     "base_uri": "https://localhost:8080/"
    },
    "id": "d9QtVSR7xKMw",
    "outputId": "add353bc-6d8a-4bd8-9a67-0eebd5f9d183"
   },
   "outputs": [
    {
     "name": "stdout",
     "output_type": "stream",
     "text": [
      "Dataset Shape: (20819, 10)\n"
     ]
    }
   ],
   "source": [
    "# Check Dataset Dimensions\n",
    "print(\"Dataset Shape:\", df.shape)"
   ]
  },
  {
   "cell_type": "markdown",
   "metadata": {
    "id": "kLR7dqKU6KuO"
   },
   "source": [
    "Total 20819 data points and 10 features."
   ]
  },
  {
   "cell_type": "code",
   "execution_count": 5,
   "metadata": {
    "colab": {
     "base_uri": "https://localhost:8080/",
     "height": 362
    },
    "id": "uuJSJUAXxdso",
    "outputId": "7aa65ed4-b868-4c79-f685-0b1b65895551"
   },
   "outputs": [
    {
     "data": {
      "text/html": [
       "<div>\n",
       "<style scoped>\n",
       "    .dataframe tbody tr th:only-of-type {\n",
       "        vertical-align: middle;\n",
       "    }\n",
       "\n",
       "    .dataframe tbody tr th {\n",
       "        vertical-align: top;\n",
       "    }\n",
       "\n",
       "    .dataframe thead th {\n",
       "        text-align: right;\n",
       "    }\n",
       "</style>\n",
       "<table border=\"1\" class=\"dataframe\">\n",
       "  <thead>\n",
       "    <tr style=\"text-align: right;\">\n",
       "      <th></th>\n",
       "      <th>Date</th>\n",
       "      <th>County</th>\n",
       "      <th>State</th>\n",
       "      <th>Vehicle Primary Use</th>\n",
       "      <th>Battery Electric Vehicles (BEVs)</th>\n",
       "      <th>Plug-In Hybrid Electric Vehicles (PHEVs)</th>\n",
       "      <th>Electric Vehicle (EV) Total</th>\n",
       "      <th>Non-Electric Vehicle Total</th>\n",
       "      <th>Total Vehicles</th>\n",
       "      <th>Percent Electric Vehicles</th>\n",
       "    </tr>\n",
       "  </thead>\n",
       "  <tbody>\n",
       "    <tr>\n",
       "      <th>0</th>\n",
       "      <td>September 30 2022</td>\n",
       "      <td>Riverside</td>\n",
       "      <td>CA</td>\n",
       "      <td>Passenger</td>\n",
       "      <td>7</td>\n",
       "      <td>0</td>\n",
       "      <td>7</td>\n",
       "      <td>460</td>\n",
       "      <td>467</td>\n",
       "      <td>1.50</td>\n",
       "    </tr>\n",
       "    <tr>\n",
       "      <th>1</th>\n",
       "      <td>December 31 2022</td>\n",
       "      <td>Prince William</td>\n",
       "      <td>VA</td>\n",
       "      <td>Passenger</td>\n",
       "      <td>1</td>\n",
       "      <td>2</td>\n",
       "      <td>3</td>\n",
       "      <td>188</td>\n",
       "      <td>191</td>\n",
       "      <td>1.57</td>\n",
       "    </tr>\n",
       "    <tr>\n",
       "      <th>2</th>\n",
       "      <td>January 31 2020</td>\n",
       "      <td>Dakota</td>\n",
       "      <td>MN</td>\n",
       "      <td>Passenger</td>\n",
       "      <td>0</td>\n",
       "      <td>1</td>\n",
       "      <td>1</td>\n",
       "      <td>32</td>\n",
       "      <td>33</td>\n",
       "      <td>3.03</td>\n",
       "    </tr>\n",
       "    <tr>\n",
       "      <th>3</th>\n",
       "      <td>June 30 2022</td>\n",
       "      <td>Ferry</td>\n",
       "      <td>WA</td>\n",
       "      <td>Truck</td>\n",
       "      <td>0</td>\n",
       "      <td>0</td>\n",
       "      <td>0</td>\n",
       "      <td>3,575</td>\n",
       "      <td>3,575</td>\n",
       "      <td>0.00</td>\n",
       "    </tr>\n",
       "    <tr>\n",
       "      <th>4</th>\n",
       "      <td>July 31 2021</td>\n",
       "      <td>Douglas</td>\n",
       "      <td>CO</td>\n",
       "      <td>Passenger</td>\n",
       "      <td>0</td>\n",
       "      <td>1</td>\n",
       "      <td>1</td>\n",
       "      <td>83</td>\n",
       "      <td>84</td>\n",
       "      <td>1.19</td>\n",
       "    </tr>\n",
       "  </tbody>\n",
       "</table>\n",
       "</div>"
      ],
      "text/plain": [
       "                Date          County State Vehicle Primary Use  \\\n",
       "0  September 30 2022       Riverside    CA           Passenger   \n",
       "1   December 31 2022  Prince William    VA           Passenger   \n",
       "2    January 31 2020          Dakota    MN           Passenger   \n",
       "3       June 30 2022           Ferry    WA               Truck   \n",
       "4       July 31 2021         Douglas    CO           Passenger   \n",
       "\n",
       "  Battery Electric Vehicles (BEVs) Plug-In Hybrid Electric Vehicles (PHEVs)  \\\n",
       "0                                7                                        0   \n",
       "1                                1                                        2   \n",
       "2                                0                                        1   \n",
       "3                                0                                        0   \n",
       "4                                0                                        1   \n",
       "\n",
       "  Electric Vehicle (EV) Total Non-Electric Vehicle Total Total Vehicles  \\\n",
       "0                           7                        460            467   \n",
       "1                           3                        188            191   \n",
       "2                           1                         32             33   \n",
       "3                           0                      3,575          3,575   \n",
       "4                           1                         83             84   \n",
       "\n",
       "   Percent Electric Vehicles  \n",
       "0                       1.50  \n",
       "1                       1.57  \n",
       "2                       3.03  \n",
       "3                       0.00  \n",
       "4                       1.19  "
      ]
     },
     "execution_count": 5,
     "metadata": {},
     "output_type": "execute_result"
    }
   ],
   "source": [
    "# Preview the Dataset\n",
    "df.head() # top 5 rows"
   ]
  },
  {
   "cell_type": "code",
   "execution_count": 6,
   "metadata": {
    "colab": {
     "base_uri": "https://localhost:8080/"
    },
    "id": "XSl8FNg9x245",
    "outputId": "a0ca3a06-b360-4ea5-8896-8a77f29f20a5"
   },
   "outputs": [
    {
     "name": "stdout",
     "output_type": "stream",
     "text": [
      "<class 'pandas.core.frame.DataFrame'>\n",
      "RangeIndex: 20819 entries, 0 to 20818\n",
      "Data columns (total 10 columns):\n",
      " #   Column                                    Non-Null Count  Dtype  \n",
      "---  ------                                    --------------  -----  \n",
      " 0   Date                                      20819 non-null  object \n",
      " 1   County                                    20733 non-null  object \n",
      " 2   State                                     20733 non-null  object \n",
      " 3   Vehicle Primary Use                       20819 non-null  object \n",
      " 4   Battery Electric Vehicles (BEVs)          20819 non-null  object \n",
      " 5   Plug-In Hybrid Electric Vehicles (PHEVs)  20819 non-null  object \n",
      " 6   Electric Vehicle (EV) Total               20819 non-null  object \n",
      " 7   Non-Electric Vehicle Total                20819 non-null  object \n",
      " 8   Total Vehicles                            20819 non-null  object \n",
      " 9   Percent Electric Vehicles                 20819 non-null  float64\n",
      "dtypes: float64(1), object(9)\n",
      "memory usage: 1.6+ MB\n"
     ]
    }
   ],
   "source": [
    "# Data Types and Missing Values\n",
    "df.info()"
   ]
  },
  {
   "cell_type": "markdown",
   "metadata": {
    "id": "ZNJam__V6e_m"
   },
   "source": [
    "As we could see, only Percent Eletric Vehicles is numeric."
   ]
  },
  {
   "cell_type": "code",
   "execution_count": 7,
   "metadata": {
    "colab": {
     "base_uri": "https://localhost:8080/",
     "height": 397
    },
    "id": "oWPeCHLl2r9Z",
    "outputId": "4c833356-af6a-4e62-dfdd-15aea5fb2e20"
   },
   "outputs": [
    {
     "data": {
      "text/plain": [
       "Date                                         0\n",
       "County                                      86\n",
       "State                                       86\n",
       "Vehicle Primary Use                          0\n",
       "Battery Electric Vehicles (BEVs)             0\n",
       "Plug-In Hybrid Electric Vehicles (PHEVs)     0\n",
       "Electric Vehicle (EV) Total                  0\n",
       "Non-Electric Vehicle Total                   0\n",
       "Total Vehicles                               0\n",
       "Percent Electric Vehicles                    0\n",
       "dtype: int64"
      ]
     },
     "execution_count": 7,
     "metadata": {},
     "output_type": "execute_result"
    }
   ],
   "source": [
    "df.isnull().sum()"
   ]
  },
  {
   "cell_type": "markdown",
   "metadata": {
    "id": "d9ysoJ6G6TC-"
   },
   "source": [
    "Missing values in County and State."
   ]
  },
  {
   "cell_type": "markdown",
   "metadata": {
    "id": "ICPry5JN6ZgG"
   },
   "source": [
    "**Check if any column contain outliers.**"
   ]
  },
  {
   "cell_type": "code",
   "execution_count": 8,
   "metadata": {
    "colab": {
     "base_uri": "https://localhost:8080/"
    },
    "id": "nzyY1SFhVl-s",
    "outputId": "156079de-3b8e-4968-8359-5f355beca2db"
   },
   "outputs": [
    {
     "name": "stdout",
     "output_type": "stream",
     "text": [
      "lower_bound: -3.5174999999999996\n",
      "upper_bound: 6.9025\n",
      "Number of outliers in 'Percent Electric Vehicles': 2476\n"
     ]
    }
   ],
   "source": [
    "# Compute Q1 and Q3\n",
    "Q1 = df['Percent Electric Vehicles'].quantile(0.25)\n",
    "Q3 = df['Percent Electric Vehicles'].quantile(0.75)\n",
    "IQR = Q3 - Q1\n",
    "\n",
    "# Define outlier boundaries\n",
    "lower_bound = Q1 - 1.5 * IQR\n",
    "upper_bound = Q3 + 1.5 * IQR\n",
    "print('lower_bound:', lower_bound)\n",
    "print('upper_bound:', upper_bound)\n",
    "\n",
    "# Identify outliers\n",
    "outliers = df[(df['Percent Electric Vehicles'] < lower_bound) | (df['Percent Electric Vehicles'] > upper_bound)]\n",
    "print(\"Number of outliers in 'Percent Electric Vehicles':\", outliers.shape[0])"
   ]
  },
  {
   "cell_type": "markdown",
   "metadata": {
    "id": "6Dk9O3sWyY86"
   },
   "source": [
    "### Data Preprocessing"
   ]
  },
  {
   "cell_type": "markdown",
   "metadata": {
    "id": "qNdrv53-FMZm"
   },
   "source": [
    "Basic Data Cleaning"
   ]
  },
  {
   "cell_type": "code",
   "execution_count": 9,
   "metadata": {
    "colab": {
     "base_uri": "https://localhost:8080/",
     "height": 414
    },
    "id": "mNVgovQsoVAv",
    "outputId": "913c7a18-c0d9-4460-c6a2-96f0318ae464"
   },
   "outputs": [
    {
     "name": "stdout",
     "output_type": "stream",
     "text": [
      "Missing after fill:\n",
      "County    0\n",
      "State     0\n",
      "dtype: int64\n"
     ]
    },
    {
     "data": {
      "text/html": [
       "<div>\n",
       "<style scoped>\n",
       "    .dataframe tbody tr th:only-of-type {\n",
       "        vertical-align: middle;\n",
       "    }\n",
       "\n",
       "    .dataframe tbody tr th {\n",
       "        vertical-align: top;\n",
       "    }\n",
       "\n",
       "    .dataframe thead th {\n",
       "        text-align: right;\n",
       "    }\n",
       "</style>\n",
       "<table border=\"1\" class=\"dataframe\">\n",
       "  <thead>\n",
       "    <tr style=\"text-align: right;\">\n",
       "      <th></th>\n",
       "      <th>Date</th>\n",
       "      <th>County</th>\n",
       "      <th>State</th>\n",
       "      <th>Vehicle Primary Use</th>\n",
       "      <th>Battery Electric Vehicles (BEVs)</th>\n",
       "      <th>Plug-In Hybrid Electric Vehicles (PHEVs)</th>\n",
       "      <th>Electric Vehicle (EV) Total</th>\n",
       "      <th>Non-Electric Vehicle Total</th>\n",
       "      <th>Total Vehicles</th>\n",
       "      <th>Percent Electric Vehicles</th>\n",
       "    </tr>\n",
       "  </thead>\n",
       "  <tbody>\n",
       "    <tr>\n",
       "      <th>0</th>\n",
       "      <td>2022-09-30</td>\n",
       "      <td>Riverside</td>\n",
       "      <td>CA</td>\n",
       "      <td>Passenger</td>\n",
       "      <td>7</td>\n",
       "      <td>0</td>\n",
       "      <td>7</td>\n",
       "      <td>460</td>\n",
       "      <td>467</td>\n",
       "      <td>1.50</td>\n",
       "    </tr>\n",
       "    <tr>\n",
       "      <th>1</th>\n",
       "      <td>2022-12-31</td>\n",
       "      <td>Prince William</td>\n",
       "      <td>VA</td>\n",
       "      <td>Passenger</td>\n",
       "      <td>1</td>\n",
       "      <td>2</td>\n",
       "      <td>3</td>\n",
       "      <td>188</td>\n",
       "      <td>191</td>\n",
       "      <td>1.57</td>\n",
       "    </tr>\n",
       "    <tr>\n",
       "      <th>2</th>\n",
       "      <td>2020-01-31</td>\n",
       "      <td>Dakota</td>\n",
       "      <td>MN</td>\n",
       "      <td>Passenger</td>\n",
       "      <td>0</td>\n",
       "      <td>1</td>\n",
       "      <td>1</td>\n",
       "      <td>32</td>\n",
       "      <td>33</td>\n",
       "      <td>3.03</td>\n",
       "    </tr>\n",
       "    <tr>\n",
       "      <th>3</th>\n",
       "      <td>2022-06-30</td>\n",
       "      <td>Ferry</td>\n",
       "      <td>WA</td>\n",
       "      <td>Truck</td>\n",
       "      <td>0</td>\n",
       "      <td>0</td>\n",
       "      <td>0</td>\n",
       "      <td>3,575</td>\n",
       "      <td>3,575</td>\n",
       "      <td>0.00</td>\n",
       "    </tr>\n",
       "    <tr>\n",
       "      <th>4</th>\n",
       "      <td>2021-07-31</td>\n",
       "      <td>Douglas</td>\n",
       "      <td>CO</td>\n",
       "      <td>Passenger</td>\n",
       "      <td>0</td>\n",
       "      <td>1</td>\n",
       "      <td>1</td>\n",
       "      <td>83</td>\n",
       "      <td>84</td>\n",
       "      <td>1.19</td>\n",
       "    </tr>\n",
       "  </tbody>\n",
       "</table>\n",
       "</div>"
      ],
      "text/plain": [
       "        Date          County State Vehicle Primary Use  \\\n",
       "0 2022-09-30       Riverside    CA           Passenger   \n",
       "1 2022-12-31  Prince William    VA           Passenger   \n",
       "2 2020-01-31          Dakota    MN           Passenger   \n",
       "3 2022-06-30           Ferry    WA               Truck   \n",
       "4 2021-07-31         Douglas    CO           Passenger   \n",
       "\n",
       "  Battery Electric Vehicles (BEVs) Plug-In Hybrid Electric Vehicles (PHEVs)  \\\n",
       "0                                7                                        0   \n",
       "1                                1                                        2   \n",
       "2                                0                                        1   \n",
       "3                                0                                        0   \n",
       "4                                0                                        1   \n",
       "\n",
       "  Electric Vehicle (EV) Total Non-Electric Vehicle Total Total Vehicles  \\\n",
       "0                           7                        460            467   \n",
       "1                           3                        188            191   \n",
       "2                           1                         32             33   \n",
       "3                           0                      3,575          3,575   \n",
       "4                           1                         83             84   \n",
       "\n",
       "   Percent Electric Vehicles  \n",
       "0                       1.50  \n",
       "1                       1.57  \n",
       "2                       3.03  \n",
       "3                       0.00  \n",
       "4                       1.19  "
      ]
     },
     "execution_count": 9,
     "metadata": {},
     "output_type": "execute_result"
    }
   ],
   "source": [
    "# Converts the \"Date\" column to actual datetime objects\n",
    "df['Date'] = pd.to_datetime(df['Date'], errors='coerce')\n",
    "\n",
    "# Removes rows where \"Date\" conversion failed\n",
    "df = df[df['Date'].notnull()]\n",
    "\n",
    "# Removes rows where the target (EV Total) is missing\n",
    "df = df[df['Electric Vehicle (EV) Total'].notnull()]\n",
    "\n",
    "# Fill missing values\n",
    "df['County'] = df['County'].fillna('Unknown')\n",
    "df['State'] = df['State'].fillna('Unknown')\n",
    "\n",
    "# Confirm remaining nulls\n",
    "print(\"Missing after fill:\")\n",
    "print(df[['County', 'State']].isnull().sum())\n",
    "\n",
    "df.head()"
   ]
  },
  {
   "cell_type": "markdown",
   "metadata": {
    "id": "G_JKm23vFUru"
   },
   "source": [
    "Remove Outliers: Cap the values to the IQR bounds"
   ]
  },
  {
   "cell_type": "code",
   "execution_count": 10,
   "metadata": {
    "colab": {
     "base_uri": "https://localhost:8080/"
    },
    "id": "DEaJ7RzvP8ky",
    "outputId": "7ca3b7a5-411b-4a82-db50-1042ffac69b0"
   },
   "outputs": [
    {
     "name": "stdout",
     "output_type": "stream",
     "text": [
      "Number of outliers in 'Percent Electric Vehicles': 0\n"
     ]
    }
   ],
   "source": [
    "# Cap the outliers - it keeps all the data while reducing the skew from extreme values.\n",
    "\n",
    "df['Percent Electric Vehicles'] = np.where(df['Percent Electric Vehicles'] > upper_bound, upper_bound,\n",
    "                                 np.where(df['Percent Electric Vehicles'] < lower_bound, lower_bound, df['Percent Electric Vehicles']))\n",
    "\n",
    "# Identify outliers\n",
    "outliers = df[(df['Percent Electric Vehicles'] < lower_bound) | (df['Percent Electric Vehicles'] > upper_bound)]\n",
    "print(\"Number of outliers in 'Percent Electric Vehicles':\", outliers.shape[0])"
   ]
  },
  {
   "cell_type": "markdown",
   "metadata": {
    "id": "fNJBzf57FZ5f"
   },
   "source": [
    "Convert all count columns to numeric (in case they are strings)"
   ]
  },
  {
   "cell_type": "code",
   "execution_count": 11,
   "metadata": {
    "colab": {
     "base_uri": "https://localhost:8080/",
     "height": 335
    },
    "id": "9kFm_jepNaKO",
    "outputId": "dc668ace-cec2-4bc2-fd47-841e75ada2dd"
   },
   "outputs": [
    {
     "data": {
      "text/html": [
       "<div>\n",
       "<style scoped>\n",
       "    .dataframe tbody tr th:only-of-type {\n",
       "        vertical-align: middle;\n",
       "    }\n",
       "\n",
       "    .dataframe tbody tr th {\n",
       "        vertical-align: top;\n",
       "    }\n",
       "\n",
       "    .dataframe thead th {\n",
       "        text-align: right;\n",
       "    }\n",
       "</style>\n",
       "<table border=\"1\" class=\"dataframe\">\n",
       "  <thead>\n",
       "    <tr style=\"text-align: right;\">\n",
       "      <th></th>\n",
       "      <th>Battery Electric Vehicles (BEVs)</th>\n",
       "      <th>Plug-In Hybrid Electric Vehicles (PHEVs)</th>\n",
       "      <th>Electric Vehicle (EV) Total</th>\n",
       "      <th>Non-Electric Vehicle Total</th>\n",
       "      <th>Total Vehicles</th>\n",
       "      <th>Percent Electric Vehicles</th>\n",
       "    </tr>\n",
       "  </thead>\n",
       "  <tbody>\n",
       "    <tr>\n",
       "      <th>count</th>\n",
       "      <td>20266.000000</td>\n",
       "      <td>20468.000000</td>\n",
       "      <td>20119.000000</td>\n",
       "      <td>13983.000000</td>\n",
       "      <td>13979.000000</td>\n",
       "      <td>20819.000000</td>\n",
       "    </tr>\n",
       "    <tr>\n",
       "      <th>mean</th>\n",
       "      <td>25.855176</td>\n",
       "      <td>21.790942</td>\n",
       "      <td>31.623093</td>\n",
       "      <td>132.845312</td>\n",
       "      <td>134.463767</td>\n",
       "      <td>2.122378</td>\n",
       "    </tr>\n",
       "    <tr>\n",
       "      <th>std</th>\n",
       "      <td>102.004224</td>\n",
       "      <td>92.309729</td>\n",
       "      <td>115.742017</td>\n",
       "      <td>174.033916</td>\n",
       "      <td>174.448753</td>\n",
       "      <td>2.277542</td>\n",
       "    </tr>\n",
       "    <tr>\n",
       "      <th>min</th>\n",
       "      <td>0.000000</td>\n",
       "      <td>0.000000</td>\n",
       "      <td>0.000000</td>\n",
       "      <td>0.000000</td>\n",
       "      <td>1.000000</td>\n",
       "      <td>0.000000</td>\n",
       "    </tr>\n",
       "    <tr>\n",
       "      <th>25%</th>\n",
       "      <td>0.000000</td>\n",
       "      <td>0.000000</td>\n",
       "      <td>1.000000</td>\n",
       "      <td>26.000000</td>\n",
       "      <td>27.000000</td>\n",
       "      <td>0.390000</td>\n",
       "    </tr>\n",
       "    <tr>\n",
       "      <th>50%</th>\n",
       "      <td>1.000000</td>\n",
       "      <td>1.000000</td>\n",
       "      <td>1.000000</td>\n",
       "      <td>69.000000</td>\n",
       "      <td>70.000000</td>\n",
       "      <td>1.220000</td>\n",
       "    </tr>\n",
       "    <tr>\n",
       "      <th>75%</th>\n",
       "      <td>2.000000</td>\n",
       "      <td>1.000000</td>\n",
       "      <td>3.000000</td>\n",
       "      <td>167.000000</td>\n",
       "      <td>169.000000</td>\n",
       "      <td>2.995000</td>\n",
       "    </tr>\n",
       "    <tr>\n",
       "      <th>max</th>\n",
       "      <td>999.000000</td>\n",
       "      <td>999.000000</td>\n",
       "      <td>999.000000</td>\n",
       "      <td>999.000000</td>\n",
       "      <td>998.000000</td>\n",
       "      <td>6.902500</td>\n",
       "    </tr>\n",
       "  </tbody>\n",
       "</table>\n",
       "</div>"
      ],
      "text/plain": [
       "       Battery Electric Vehicles (BEVs)  \\\n",
       "count                      20266.000000   \n",
       "mean                          25.855176   \n",
       "std                          102.004224   \n",
       "min                            0.000000   \n",
       "25%                            0.000000   \n",
       "50%                            1.000000   \n",
       "75%                            2.000000   \n",
       "max                          999.000000   \n",
       "\n",
       "       Plug-In Hybrid Electric Vehicles (PHEVs)  Electric Vehicle (EV) Total  \\\n",
       "count                              20468.000000                 20119.000000   \n",
       "mean                                  21.790942                    31.623093   \n",
       "std                                   92.309729                   115.742017   \n",
       "min                                    0.000000                     0.000000   \n",
       "25%                                    0.000000                     1.000000   \n",
       "50%                                    1.000000                     1.000000   \n",
       "75%                                    1.000000                     3.000000   \n",
       "max                                  999.000000                   999.000000   \n",
       "\n",
       "       Non-Electric Vehicle Total  Total Vehicles  Percent Electric Vehicles  \n",
       "count                13983.000000    13979.000000               20819.000000  \n",
       "mean                   132.845312      134.463767                   2.122378  \n",
       "std                    174.033916      174.448753                   2.277542  \n",
       "min                      0.000000        1.000000                   0.000000  \n",
       "25%                     26.000000       27.000000                   0.390000  \n",
       "50%                     69.000000       70.000000                   1.220000  \n",
       "75%                    167.000000      169.000000                   2.995000  \n",
       "max                    999.000000      998.000000                   6.902500  "
      ]
     },
     "execution_count": 11,
     "metadata": {},
     "output_type": "execute_result"
    }
   ],
   "source": [
    "cols_to_convert = [\n",
    "    'Battery Electric Vehicles (BEVs)',\n",
    "    'Plug-In Hybrid Electric Vehicles (PHEVs)',\n",
    "    'Electric Vehicle (EV) Total',\n",
    "    'Non-Electric Vehicle Total',\n",
    "    'Total Vehicles',\n",
    "    'Percent Electric Vehicles'\n",
    "]\n",
    "\n",
    "for col in cols_to_convert:\n",
    "    df[col] = pd.to_numeric(df[col], errors='coerce')\n",
    "\n",
    "df[cols_to_convert].describe()"
   ]
  },
  {
   "cell_type": "markdown",
   "metadata": {
    "id": "YI-zTbu8F27n"
   },
   "source": [
    "Identifying counties with most number of EVs"
   ]
  },
  {
   "cell_type": "code",
   "execution_count": 12,
   "metadata": {
    "colab": {
     "base_uri": "https://localhost:8080/"
    },
    "id": "ZmZTWZUPOpTI",
    "outputId": "6a694f1b-899c-4184-ef16-eaf993263e45"
   },
   "outputs": [
    {
     "name": "stdout",
     "output_type": "stream",
     "text": [
      "Top 3 Counties:\n",
      " County\n",
      "Clallam      39839.0\n",
      "Jefferson    39683.0\n",
      "San Juan     39309.0\n",
      "Name: Electric Vehicle (EV) Total, dtype: float64\n",
      "\n",
      "Bottom 3 Counties:\n",
      " County\n",
      "Brown         1.0\n",
      "Hood River    1.0\n",
      "Union         1.0\n",
      "Name: Electric Vehicle (EV) Total, dtype: float64\n"
     ]
    }
   ],
   "source": [
    "# Most EVs by County\n",
    "top_counties = df.groupby('County')['Electric Vehicle (EV) Total'].sum().sort_values(ascending=False).head(3)\n",
    "bottom_counties = df.groupby('County')['Electric Vehicle (EV) Total'].sum().sort_values().head(3)\n",
    "\n",
    "print(\"Top 3 Counties:\\n\", top_counties)\n",
    "print(\"\\nBottom 3 Counties:\\n\", bottom_counties)"
   ]
  },
  {
   "cell_type": "markdown",
   "metadata": {
    "id": "qERjCMC7GEhw"
   },
   "source": [
    "Sum of the vehicles in different categories"
   ]
  },
  {
   "cell_type": "code",
   "execution_count": 13,
   "metadata": {
    "colab": {
     "base_uri": "https://localhost:8080/",
     "height": 607
    },
    "id": "INRTPRP_PI3R",
    "outputId": "88f1932f-731f-432d-d26b-256c4f187cc5"
   },
   "outputs": [
    {
     "data": {
      "image/png": "[encoded data removed]",
      "text/plain": [
       "<Figure size 800x600 with 1 Axes>"
      ]
     },
     "metadata": {},
     "output_type": "display_data"
    }
   ],
   "source": [
    "# Total sums for stacked column chart\n",
    "bev_total = df['Battery Electric Vehicles (BEVs)'].sum()\n",
    "phev_total = df['Plug-In Hybrid Electric Vehicles (PHEVs)'].sum()\n",
    "ev_total = df['Electric Vehicle (EV) Total'].sum()\n",
    "non_ev_total = df['Non-Electric Vehicle Total'].sum()\n",
    "all_total = df['Total Vehicles'].sum()\n",
    "\n",
    "# Stacked column chart\n",
    "fig, ax = plt.subplots(figsize=(8, 6))\n",
    "\n",
    "# Stack EV types\n",
    "ax.bar('EV Type Breakdown', bev_total, label='BEV', color='skyblue')\n",
    "ax.bar('EV Type Breakdown', phev_total, bottom=bev_total, label='PHEV', color='orange')\n",
    "\n",
    "# Stack Total Vehicle categories\n",
    "ax.bar('All Vehicles', ev_total, label='EV', color='green')\n",
    "ax.bar('All Vehicles', non_ev_total, bottom=ev_total, label='Non-EV', color='red')\n",
    "\n",
    "# Final touches\n",
    "ax.set_ylabel('Vehicle Count')\n",
    "ax.set_title('Stacked Column Chart: EV Breakdown and Total Vehicles')\n",
    "ax.legend()\n",
    "plt.tight_layout()\n",
    "plt.show()"
   ]
  },
  {
   "cell_type": "markdown",
   "metadata": {
    "id": "UiALWlHNHbzy"
   },
   "source": [
    "### Feature engineering"
   ]
  },
  {
   "cell_type": "code",
   "execution_count": 14,
   "metadata": {
    "id": "r69gmshNob1w"
   },
   "outputs": [],
   "source": [
    "# Extract year, month, and date\n",
    "df['year'] = df['Date'].dt.year\n",
    "df['month'] = df['Date'].dt.month\n",
    "df['numeric_date'] = df['Date'].dt.year * 12 + df['Date'].dt.month  # For trend"
   ]
  },
  {
   "cell_type": "code",
   "execution_count": 15,
   "metadata": {
    "id": "kFecw1VwoeKQ"
   },
   "outputs": [],
   "source": [
    "# Encode County\n",
    "le = LabelEncoder()\n",
    "df['county_encoded'] = le.fit_transform(df['County'])"
   ]
  },
  {
   "cell_type": "code",
   "execution_count": 16,
   "metadata": {
    "id": "ggcmBu-Gogag"
   },
   "outputs": [],
   "source": [
    "# Sort for lag creation\n",
    "df = df.sort_values(['County', 'Date'])"
   ]
  },
  {
   "cell_type": "markdown",
   "metadata": {
    "id": "SkHBDAqoIUea"
   },
   "source": [
    "Sorting by ['County', 'Date'] is essential before using groupby().shift() to ensure accurate lag feature creation.\n",
    "\n",
    "Let's creates lag features:\n",
    "ev_total_lag1, ev_total_lag2, ev_total_lag3\n",
    "\n",
    "Each one represents the EV total in previous months, specifically:\n",
    "\n",
    "**Feature\tMeaning**\n",
    "- ev_total_lagX:\tHow many EVs were registered X months ago\n",
    "- ev_total_roll_mean_3:\tSmoother average of EV total over the past 3 months\n",
    "- ev_total_pct_change_1:\tMonthly growth rate (e.g., from 100 → 120 = +20%)\n",
    "- ev_total_pct_change_3:\t3-month growth trend (captures momentum)\n",
    "\n",
    "It does this for each county independently using groupby('County')."
   ]
  },
  {
   "cell_type": "code",
   "execution_count": 17,
   "metadata": {
    "id": "VOV2nbvLoitf"
   },
   "outputs": [],
   "source": [
    "# Assign time index per county\n",
    "df['months_since_start'] = df.groupby('County').cumcount()\n",
    "\n",
    "#Lags are only based on past data from the same county\n",
    "# === Create lag features (1–3 months) ===\n",
    "for lag in [1, 2, 3]:\n",
    "    df[f'ev_total_lag{lag}'] = df.groupby('County')['Electric Vehicle (EV) Total'].shift(lag)\n",
    "\n",
    "# === Rolling average (3-month, prior) ===\n",
    "df['ev_total_roll_mean_3'] = df.groupby('County')['Electric Vehicle (EV) Total'] \\\n",
    "                               .transform(lambda x: x.shift(1).rolling(3).mean())\n",
    "\n",
    "# === Percent change (no fill method) ===\n",
    "df['ev_total_pct_change_1'] = df.groupby('County')['Electric Vehicle (EV) Total'] \\\n",
    "                                .pct_change(periods=1, fill_method=None)\n",
    "\n",
    "df['ev_total_pct_change_3'] = df.groupby('County')['Electric Vehicle (EV) Total'] \\\n",
    "                                .pct_change(periods=3, fill_method=None)\n",
    "\n",
    "# === Clean up any infs/NaNs ===\n",
    "df['ev_total_pct_change_1'] = df['ev_total_pct_change_1'].replace([np.inf, -np.inf], np.nan).fillna(0)\n",
    "df['ev_total_pct_change_3'] = df['ev_total_pct_change_3'].replace([np.inf, -np.inf], np.nan).fillna(0)"
   ]
  },
  {
   "cell_type": "markdown",
   "metadata": {
    "id": "e7l1fvR7I9Yc"
   },
   "source": [
    "In time-series forecasting, past values often influence future ones. Lag features allow your model to learn trends like:\n",
    "\"If EV count increased in the last 3 months, it’s likely to keep increasing.\"\n",
    "\n",
    "These lagged values act as predictive memory of the system."
   ]
  },
  {
   "cell_type": "markdown",
   "metadata": {
    "id": "5x5dpN4GP0jO"
   },
   "source": [
    "- ev_growth_slope - Trend in cumulative EV count over 6 months for early-stage EV adoption"
   ]
  },
  {
   "cell_type": "code",
   "execution_count": 18,
   "metadata": {
    "id": "neW3JfbdyE41"
   },
   "outputs": [],
   "source": [
    "# Cumulative EV count per county\n",
    "df['cumulative_ev'] = df.groupby('County')['Electric Vehicle (EV) Total'].cumsum()\n",
    "\n",
    "# 6-month rolling linear slope of cumulative growth\n",
    "df['ev_growth_slope'] = df.groupby('County')['cumulative_ev'].transform(\n",
    "    lambda x: x.rolling(6).apply(lambda y: np.polyfit(range(len(y)), y, 1)[0] if len(y) == 6 else np.nan)\n",
    ")"
   ]
  },
  {
   "cell_type": "markdown",
   "metadata": {
    "id": "wej7Rq8dPvw_"
   },
   "source": [
    "We can also introduce the acceleration, If **slope = rate of growth**, acceleration = rate of change of slope. It helps to understand whether the growth is speeding up or slowing down — very useful in S-curve adoption(describes how a new product or technology's adoption progresses over time). Since Our data is small for a county we will not introduce it.\n",
    "\n"
   ]
  },
  {
   "cell_type": "code",
   "execution_count": 19,
   "metadata": {
    "id": "qu_2ah9GoktA"
   },
   "outputs": [],
   "source": [
    "# Drop early rows with no lag data\n",
    "\n",
    "df = df.dropna().reset_index(drop=True)"
   ]
  },
  {
   "cell_type": "code",
   "execution_count": 20,
   "metadata": {
    "colab": {
     "base_uri": "https://localhost:8080/",
     "height": 411
    },
    "id": "AklHzR-DWYiK",
    "outputId": "e86d6c9a-974a-4d65-9521-aab24a1715a2"
   },
   "outputs": [
    {
     "data": {
      "text/html": [
       "<div>\n",
       "<style scoped>\n",
       "    .dataframe tbody tr th:only-of-type {\n",
       "        vertical-align: middle;\n",
       "    }\n",
       "\n",
       "    .dataframe tbody tr th {\n",
       "        vertical-align: top;\n",
       "    }\n",
       "\n",
       "    .dataframe thead th {\n",
       "        text-align: right;\n",
       "    }\n",
       "</style>\n",
       "<table border=\"1\" class=\"dataframe\">\n",
       "  <thead>\n",
       "    <tr style=\"text-align: right;\">\n",
       "      <th></th>\n",
       "      <th>Date</th>\n",
       "      <th>County</th>\n",
       "      <th>State</th>\n",
       "      <th>Vehicle Primary Use</th>\n",
       "      <th>Battery Electric Vehicles (BEVs)</th>\n",
       "      <th>Plug-In Hybrid Electric Vehicles (PHEVs)</th>\n",
       "      <th>Electric Vehicle (EV) Total</th>\n",
       "      <th>Non-Electric Vehicle Total</th>\n",
       "      <th>Total Vehicles</th>\n",
       "      <th>Percent Electric Vehicles</th>\n",
       "      <th>...</th>\n",
       "      <th>county_encoded</th>\n",
       "      <th>months_since_start</th>\n",
       "      <th>ev_total_lag1</th>\n",
       "      <th>ev_total_lag2</th>\n",
       "      <th>ev_total_lag3</th>\n",
       "      <th>ev_total_roll_mean_3</th>\n",
       "      <th>ev_total_pct_change_1</th>\n",
       "      <th>ev_total_pct_change_3</th>\n",
       "      <th>cumulative_ev</th>\n",
       "      <th>ev_growth_slope</th>\n",
       "    </tr>\n",
       "  </thead>\n",
       "  <tbody>\n",
       "    <tr>\n",
       "      <th>0</th>\n",
       "      <td>2018-05-31</td>\n",
       "      <td>Ada</td>\n",
       "      <td>ID</td>\n",
       "      <td>Passenger</td>\n",
       "      <td>0.0</td>\n",
       "      <td>2.0</td>\n",
       "      <td>2.0</td>\n",
       "      <td>341.0</td>\n",
       "      <td>343.0</td>\n",
       "      <td>0.58</td>\n",
       "      <td>...</td>\n",
       "      <td>0</td>\n",
       "      <td>5</td>\n",
       "      <td>2.0</td>\n",
       "      <td>2.0</td>\n",
       "      <td>2.0</td>\n",
       "      <td>2.0</td>\n",
       "      <td>0.0</td>\n",
       "      <td>0.0</td>\n",
       "      <td>10.0</td>\n",
       "      <td>1.857143</td>\n",
       "    </tr>\n",
       "    <tr>\n",
       "      <th>1</th>\n",
       "      <td>2018-06-30</td>\n",
       "      <td>Ada</td>\n",
       "      <td>ID</td>\n",
       "      <td>Passenger</td>\n",
       "      <td>0.0</td>\n",
       "      <td>2.0</td>\n",
       "      <td>2.0</td>\n",
       "      <td>332.0</td>\n",
       "      <td>334.0</td>\n",
       "      <td>0.60</td>\n",
       "      <td>...</td>\n",
       "      <td>0</td>\n",
       "      <td>6</td>\n",
       "      <td>2.0</td>\n",
       "      <td>2.0</td>\n",
       "      <td>2.0</td>\n",
       "      <td>2.0</td>\n",
       "      <td>0.0</td>\n",
       "      <td>0.0</td>\n",
       "      <td>12.0</td>\n",
       "      <td>2.000000</td>\n",
       "    </tr>\n",
       "    <tr>\n",
       "      <th>2</th>\n",
       "      <td>2018-07-31</td>\n",
       "      <td>Ada</td>\n",
       "      <td>ID</td>\n",
       "      <td>Passenger</td>\n",
       "      <td>0.0</td>\n",
       "      <td>2.0</td>\n",
       "      <td>2.0</td>\n",
       "      <td>329.0</td>\n",
       "      <td>331.0</td>\n",
       "      <td>0.60</td>\n",
       "      <td>...</td>\n",
       "      <td>0</td>\n",
       "      <td>7</td>\n",
       "      <td>2.0</td>\n",
       "      <td>2.0</td>\n",
       "      <td>2.0</td>\n",
       "      <td>2.0</td>\n",
       "      <td>0.0</td>\n",
       "      <td>0.0</td>\n",
       "      <td>14.0</td>\n",
       "      <td>2.000000</td>\n",
       "    </tr>\n",
       "    <tr>\n",
       "      <th>3</th>\n",
       "      <td>2018-08-31</td>\n",
       "      <td>Ada</td>\n",
       "      <td>ID</td>\n",
       "      <td>Passenger</td>\n",
       "      <td>0.0</td>\n",
       "      <td>2.0</td>\n",
       "      <td>2.0</td>\n",
       "      <td>325.0</td>\n",
       "      <td>327.0</td>\n",
       "      <td>0.61</td>\n",
       "      <td>...</td>\n",
       "      <td>0</td>\n",
       "      <td>8</td>\n",
       "      <td>2.0</td>\n",
       "      <td>2.0</td>\n",
       "      <td>2.0</td>\n",
       "      <td>2.0</td>\n",
       "      <td>0.0</td>\n",
       "      <td>0.0</td>\n",
       "      <td>16.0</td>\n",
       "      <td>2.000000</td>\n",
       "    </tr>\n",
       "    <tr>\n",
       "      <th>4</th>\n",
       "      <td>2018-09-30</td>\n",
       "      <td>Ada</td>\n",
       "      <td>ID</td>\n",
       "      <td>Passenger</td>\n",
       "      <td>0.0</td>\n",
       "      <td>2.0</td>\n",
       "      <td>2.0</td>\n",
       "      <td>327.0</td>\n",
       "      <td>329.0</td>\n",
       "      <td>0.61</td>\n",
       "      <td>...</td>\n",
       "      <td>0</td>\n",
       "      <td>9</td>\n",
       "      <td>2.0</td>\n",
       "      <td>2.0</td>\n",
       "      <td>2.0</td>\n",
       "      <td>2.0</td>\n",
       "      <td>0.0</td>\n",
       "      <td>0.0</td>\n",
       "      <td>18.0</td>\n",
       "      <td>2.000000</td>\n",
       "    </tr>\n",
       "  </tbody>\n",
       "</table>\n",
       "<p>5 rows × 23 columns</p>\n",
       "</div>"
      ],
      "text/plain": [
       "        Date County State Vehicle Primary Use  \\\n",
       "0 2018-05-31    Ada    ID           Passenger   \n",
       "1 2018-06-30    Ada    ID           Passenger   \n",
       "2 2018-07-31    Ada    ID           Passenger   \n",
       "3 2018-08-31    Ada    ID           Passenger   \n",
       "4 2018-09-30    Ada    ID           Passenger   \n",
       "\n",
       "   Battery Electric Vehicles (BEVs)  Plug-In Hybrid Electric Vehicles (PHEVs)  \\\n",
       "0                               0.0                                       2.0   \n",
       "1                               0.0                                       2.0   \n",
       "2                               0.0                                       2.0   \n",
       "3                               0.0                                       2.0   \n",
       "4                               0.0                                       2.0   \n",
       "\n",
       "   Electric Vehicle (EV) Total  Non-Electric Vehicle Total  Total Vehicles  \\\n",
       "0                          2.0                       341.0           343.0   \n",
       "1                          2.0                       332.0           334.0   \n",
       "2                          2.0                       329.0           331.0   \n",
       "3                          2.0                       325.0           327.0   \n",
       "4                          2.0                       327.0           329.0   \n",
       "\n",
       "   Percent Electric Vehicles  ...  county_encoded  months_since_start  \\\n",
       "0                       0.58  ...               0                   5   \n",
       "1                       0.60  ...               0                   6   \n",
       "2                       0.60  ...               0                   7   \n",
       "3                       0.61  ...               0                   8   \n",
       "4                       0.61  ...               0                   9   \n",
       "\n",
       "   ev_total_lag1  ev_total_lag2  ev_total_lag3  ev_total_roll_mean_3  \\\n",
       "0            2.0            2.0            2.0                   2.0   \n",
       "1            2.0            2.0            2.0                   2.0   \n",
       "2            2.0            2.0            2.0                   2.0   \n",
       "3            2.0            2.0            2.0                   2.0   \n",
       "4            2.0            2.0            2.0                   2.0   \n",
       "\n",
       "   ev_total_pct_change_1  ev_total_pct_change_3  cumulative_ev  \\\n",
       "0                    0.0                    0.0           10.0   \n",
       "1                    0.0                    0.0           12.0   \n",
       "2                    0.0                    0.0           14.0   \n",
       "3                    0.0                    0.0           16.0   \n",
       "4                    0.0                    0.0           18.0   \n",
       "\n",
       "   ev_growth_slope  \n",
       "0         1.857143  \n",
       "1         2.000000  \n",
       "2         2.000000  \n",
       "3         2.000000  \n",
       "4         2.000000  \n",
       "\n",
       "[5 rows x 23 columns]"
      ]
     },
     "execution_count": 20,
     "metadata": {},
     "output_type": "execute_result"
    }
   ],
   "source": [
    "df.to_csv('preprocessed_ev_data.csv', index=False)\n",
    "\n",
    "df.head()"
   ]
  },
  {
   "cell_type": "code",
   "execution_count": 21,
   "metadata": {
    "colab": {
     "base_uri": "https://localhost:8080/",
     "height": 226
    },
    "id": "-sYFD3sTomRo",
    "outputId": "f383b2a0-db3c-4174-904b-077faa990448"
   },
   "outputs": [
    {
     "data": {
      "text/html": [
       "<div>\n",
       "<style scoped>\n",
       "    .dataframe tbody tr th:only-of-type {\n",
       "        vertical-align: middle;\n",
       "    }\n",
       "\n",
       "    .dataframe tbody tr th {\n",
       "        vertical-align: top;\n",
       "    }\n",
       "\n",
       "    .dataframe thead th {\n",
       "        text-align: right;\n",
       "    }\n",
       "</style>\n",
       "<table border=\"1\" class=\"dataframe\">\n",
       "  <thead>\n",
       "    <tr style=\"text-align: right;\">\n",
       "      <th></th>\n",
       "      <th>months_since_start</th>\n",
       "      <th>county_encoded</th>\n",
       "      <th>ev_total_lag1</th>\n",
       "      <th>ev_total_lag2</th>\n",
       "      <th>ev_total_lag3</th>\n",
       "      <th>ev_total_roll_mean_3</th>\n",
       "      <th>ev_total_pct_change_1</th>\n",
       "      <th>ev_total_pct_change_3</th>\n",
       "      <th>ev_growth_slope</th>\n",
       "    </tr>\n",
       "  </thead>\n",
       "  <tbody>\n",
       "    <tr>\n",
       "      <th>0</th>\n",
       "      <td>5</td>\n",
       "      <td>0</td>\n",
       "      <td>2.0</td>\n",
       "      <td>2.0</td>\n",
       "      <td>2.0</td>\n",
       "      <td>2.0</td>\n",
       "      <td>0.0</td>\n",
       "      <td>0.0</td>\n",
       "      <td>1.857143</td>\n",
       "    </tr>\n",
       "    <tr>\n",
       "      <th>1</th>\n",
       "      <td>6</td>\n",
       "      <td>0</td>\n",
       "      <td>2.0</td>\n",
       "      <td>2.0</td>\n",
       "      <td>2.0</td>\n",
       "      <td>2.0</td>\n",
       "      <td>0.0</td>\n",
       "      <td>0.0</td>\n",
       "      <td>2.000000</td>\n",
       "    </tr>\n",
       "    <tr>\n",
       "      <th>2</th>\n",
       "      <td>7</td>\n",
       "      <td>0</td>\n",
       "      <td>2.0</td>\n",
       "      <td>2.0</td>\n",
       "      <td>2.0</td>\n",
       "      <td>2.0</td>\n",
       "      <td>0.0</td>\n",
       "      <td>0.0</td>\n",
       "      <td>2.000000</td>\n",
       "    </tr>\n",
       "    <tr>\n",
       "      <th>3</th>\n",
       "      <td>8</td>\n",
       "      <td>0</td>\n",
       "      <td>2.0</td>\n",
       "      <td>2.0</td>\n",
       "      <td>2.0</td>\n",
       "      <td>2.0</td>\n",
       "      <td>0.0</td>\n",
       "      <td>0.0</td>\n",
       "      <td>2.000000</td>\n",
       "    </tr>\n",
       "    <tr>\n",
       "      <th>4</th>\n",
       "      <td>9</td>\n",
       "      <td>0</td>\n",
       "      <td>2.0</td>\n",
       "      <td>2.0</td>\n",
       "      <td>2.0</td>\n",
       "      <td>2.0</td>\n",
       "      <td>0.0</td>\n",
       "      <td>0.0</td>\n",
       "      <td>2.000000</td>\n",
       "    </tr>\n",
       "  </tbody>\n",
       "</table>\n",
       "</div>"
      ],
      "text/plain": [
       "   months_since_start  county_encoded  ev_total_lag1  ev_total_lag2  \\\n",
       "0                   5               0            2.0            2.0   \n",
       "1                   6               0            2.0            2.0   \n",
       "2                   7               0            2.0            2.0   \n",
       "3                   8               0            2.0            2.0   \n",
       "4                   9               0            2.0            2.0   \n",
       "\n",
       "   ev_total_lag3  ev_total_roll_mean_3  ev_total_pct_change_1  \\\n",
       "0            2.0                   2.0                    0.0   \n",
       "1            2.0                   2.0                    0.0   \n",
       "2            2.0                   2.0                    0.0   \n",
       "3            2.0                   2.0                    0.0   \n",
       "4            2.0                   2.0                    0.0   \n",
       "\n",
       "   ev_total_pct_change_3  ev_growth_slope  \n",
       "0                    0.0         1.857143  \n",
       "1                    0.0         2.000000  \n",
       "2                    0.0         2.000000  \n",
       "3                    0.0         2.000000  \n",
       "4                    0.0         2.000000  "
      ]
     },
     "execution_count": 21,
     "metadata": {},
     "output_type": "execute_result"
    }
   ],
   "source": [
    "# Define features and target\n",
    "features = [\n",
    "    'months_since_start',\n",
    "    'county_encoded',\n",
    "    'ev_total_lag1',\n",
    "    'ev_total_lag2',\n",
    "    'ev_total_lag3',\n",
    "    'ev_total_roll_mean_3',\n",
    "    'ev_total_pct_change_1',\n",
    "    'ev_total_pct_change_3',\n",
    "    'ev_growth_slope',\n",
    "]\n",
    "\n",
    "target = 'Electric Vehicle (EV) Total'\n",
    "X = df[features]\n",
    "y = df[target]\n",
    "\n",
    "X.head()"
   ]
  },
  {
   "cell_type": "code",
   "execution_count": 22,
   "metadata": {
    "colab": {
     "base_uri": "https://localhost:8080/"
    },
    "id": "F7S1vsPipPNB",
    "outputId": "d400f7e0-f060-43a3-c902-ce235592acd4"
   },
   "outputs": [
    {
     "data": {
      "text/plain": [
       "(12573, 9)"
      ]
     },
     "execution_count": 22,
     "metadata": {},
     "output_type": "execute_result"
    }
   ],
   "source": [
    "X.shape"
   ]
  },
  {
   "cell_type": "code",
   "execution_count": 23,
   "metadata": {
    "id": "FZ6SrdSCo5vw"
   },
   "outputs": [],
   "source": [
    "# Train-test split\n",
    "X_train, X_test, y_train, y_test = train_test_split(X, y, shuffle=False, test_size=0.1)"
   ]
  },
  {
   "cell_type": "code",
   "execution_count": 24,
   "metadata": {
    "colab": {
     "base_uri": "https://localhost:8080/",
     "height": 241
    },
    "id": "vJG3VbRGHYtf",
    "outputId": "da81ef5a-739b-4278-da26-d89297e509f8"
   },
   "outputs": [
    {
     "data": {
      "text/plain": [
       "11315    1.0\n",
       "11316    1.0\n",
       "11317    1.0\n",
       "11318    1.0\n",
       "11319    1.0\n",
       "Name: Electric Vehicle (EV) Total, dtype: float64"
      ]
     },
     "execution_count": 24,
     "metadata": {},
     "output_type": "execute_result"
    }
   ],
   "source": [
    "y_test.head()"
   ]
  },
  {
   "cell_type": "markdown",
   "metadata": {
    "id": "RcCBY_ZrzH4M"
   },
   "source": [
    "### Model Selection\n",
    "\n",
    "Type of Problem:\n",
    "Regression Problem - Predicting continuous values like 'Electric Vehicle (EV) Total'\n",
    "\n",
    "Algorithms Considered: Random Forest Regressor\n",
    "\n",
    "Chosen Model:\n",
    "Random Forest for its robustness and ability to model non-linear relationships.\n",
    "\n",
    "Model Training, Tuning and Optimization\n",
    "Why Tuning?\n",
    "- Improves performance by finding the best model parameters.\n",
    "\n",
    "Techniques:\n",
    "- RandomizedSearchCV for hyperparameter tuning.\n",
    "- Cross-validation to avoid overfitting."
   ]
  },
  {
   "cell_type": "code",
   "execution_count": 25,
   "metadata": {
    "colab": {
     "base_uri": "https://localhost:8080/"
    },
    "id": "sqNrqp2Noh_M",
    "outputId": "be76a891-1a14-41b0-a796-6d7a79db90b8"
   },
   "outputs": [
    {
     "name": "stdout",
     "output_type": "stream",
     "text": [
      "Fitting 3 folds for each of 30 candidates, totalling 90 fits\n",
      "Best Parameters: {'n_estimators': 200, 'min_samples_split': 4, 'min_samples_leaf': 1, 'max_features': None, 'max_depth': 15}\n"
     ]
    }
   ],
   "source": [
    "# Define param distribution\n",
    "param_dist = {\n",
    "    'n_estimators': [100, 150, 200, 250],\n",
    "    'max_depth': [None, 5, 10, 15],\n",
    "    'min_samples_split': [2, 4, 6, 8],\n",
    "    'min_samples_leaf': [1, 2, 3],\n",
    "    'max_features': ['sqrt', 'log2', None]\n",
    "}\n",
    "\n",
    "# Base model\n",
    "rf = RandomForestRegressor(random_state=42)\n",
    "\n",
    "# Randomized Search\n",
    "random_search = RandomizedSearchCV(\n",
    "    estimator=rf,\n",
    "    param_distributions=param_dist,\n",
    "    n_iter=30,  # 30 random combos\n",
    "    scoring='r2',\n",
    "    cv=3,\n",
    "    n_jobs=-1,\n",
    "    verbose=1,\n",
    "    random_state=42\n",
    ")\n",
    "\n",
    "# Fit model\n",
    "random_search.fit(X_train, y_train)\n",
    "\n",
    "# Best model\n",
    "model = random_search.best_estimator_\n",
    "print(\"Best Parameters:\", random_search.best_params_)"
   ]
  },
  {
   "cell_type": "code",
   "execution_count": 26,
   "metadata": {
    "id": "lU6B1bDKo9sI"
   },
   "outputs": [],
   "source": [
    "# Predict and evaluate\n",
    "y_pred = model.predict(X_test)"
   ]
  },
  {
   "cell_type": "code",
   "execution_count": 27,
   "metadata": {
    "colab": {
     "base_uri": "https://localhost:8080/",
     "height": 226
    },
    "id": "IUmWnJLRG_13",
    "outputId": "7f9fc0d1-084a-4773-ba40-59325642019b"
   },
   "outputs": [
    {
     "data": {
      "text/html": [
       "<div>\n",
       "<style scoped>\n",
       "    .dataframe tbody tr th:only-of-type {\n",
       "        vertical-align: middle;\n",
       "    }\n",
       "\n",
       "    .dataframe tbody tr th {\n",
       "        vertical-align: top;\n",
       "    }\n",
       "\n",
       "    .dataframe thead th {\n",
       "        text-align: right;\n",
       "    }\n",
       "</style>\n",
       "<table border=\"1\" class=\"dataframe\">\n",
       "  <thead>\n",
       "    <tr style=\"text-align: right;\">\n",
       "      <th></th>\n",
       "      <th>months_since_start</th>\n",
       "      <th>county_encoded</th>\n",
       "      <th>ev_total_lag1</th>\n",
       "      <th>ev_total_lag2</th>\n",
       "      <th>ev_total_lag3</th>\n",
       "      <th>ev_total_roll_mean_3</th>\n",
       "      <th>ev_total_pct_change_1</th>\n",
       "      <th>ev_total_pct_change_3</th>\n",
       "      <th>ev_growth_slope</th>\n",
       "    </tr>\n",
       "  </thead>\n",
       "  <tbody>\n",
       "    <tr>\n",
       "      <th>11315</th>\n",
       "      <td>97</td>\n",
       "      <td>270</td>\n",
       "      <td>1.0</td>\n",
       "      <td>1.0</td>\n",
       "      <td>1.0</td>\n",
       "      <td>1.0</td>\n",
       "      <td>0.0</td>\n",
       "      <td>0.0</td>\n",
       "      <td>1.0</td>\n",
       "    </tr>\n",
       "    <tr>\n",
       "      <th>11316</th>\n",
       "      <td>98</td>\n",
       "      <td>270</td>\n",
       "      <td>1.0</td>\n",
       "      <td>1.0</td>\n",
       "      <td>1.0</td>\n",
       "      <td>1.0</td>\n",
       "      <td>0.0</td>\n",
       "      <td>0.0</td>\n",
       "      <td>1.0</td>\n",
       "    </tr>\n",
       "    <tr>\n",
       "      <th>11317</th>\n",
       "      <td>5</td>\n",
       "      <td>271</td>\n",
       "      <td>1.0</td>\n",
       "      <td>1.0</td>\n",
       "      <td>1.0</td>\n",
       "      <td>1.0</td>\n",
       "      <td>0.0</td>\n",
       "      <td>0.0</td>\n",
       "      <td>1.0</td>\n",
       "    </tr>\n",
       "    <tr>\n",
       "      <th>11318</th>\n",
       "      <td>6</td>\n",
       "      <td>271</td>\n",
       "      <td>1.0</td>\n",
       "      <td>1.0</td>\n",
       "      <td>1.0</td>\n",
       "      <td>1.0</td>\n",
       "      <td>0.0</td>\n",
       "      <td>0.0</td>\n",
       "      <td>1.0</td>\n",
       "    </tr>\n",
       "    <tr>\n",
       "      <th>11319</th>\n",
       "      <td>7</td>\n",
       "      <td>271</td>\n",
       "      <td>1.0</td>\n",
       "      <td>1.0</td>\n",
       "      <td>1.0</td>\n",
       "      <td>1.0</td>\n",
       "      <td>0.0</td>\n",
       "      <td>0.0</td>\n",
       "      <td>1.0</td>\n",
       "    </tr>\n",
       "  </tbody>\n",
       "</table>\n",
       "</div>"
      ],
      "text/plain": [
       "       months_since_start  county_encoded  ev_total_lag1  ev_total_lag2  \\\n",
       "11315                  97             270            1.0            1.0   \n",
       "11316                  98             270            1.0            1.0   \n",
       "11317                   5             271            1.0            1.0   \n",
       "11318                   6             271            1.0            1.0   \n",
       "11319                   7             271            1.0            1.0   \n",
       "\n",
       "       ev_total_lag3  ev_total_roll_mean_3  ev_total_pct_change_1  \\\n",
       "11315            1.0                   1.0                    0.0   \n",
       "11316            1.0                   1.0                    0.0   \n",
       "11317            1.0                   1.0                    0.0   \n",
       "11318            1.0                   1.0                    0.0   \n",
       "11319            1.0                   1.0                    0.0   \n",
       "\n",
       "       ev_total_pct_change_3  ev_growth_slope  \n",
       "11315                    0.0              1.0  \n",
       "11316                    0.0              1.0  \n",
       "11317                    0.0              1.0  \n",
       "11318                    0.0              1.0  \n",
       "11319                    0.0              1.0  "
      ]
     },
     "execution_count": 27,
     "metadata": {},
     "output_type": "execute_result"
    }
   ],
   "source": [
    "X_test.head()"
   ]
  },
  {
   "cell_type": "markdown",
   "metadata": {
    "id": "C8V5gk9lzeVM"
   },
   "source": [
    "### Model Evaluation\n",
    "\n",
    "Evaluation Metrics:\n",
    "- Mean Squared Error (MSE) – Penalizes larger errors.\n",
    "- R² Score – Measures goodness of fit."
   ]
  },
  {
   "cell_type": "code",
   "execution_count": 28,
   "metadata": {
    "colab": {
     "base_uri": "https://localhost:8080/",
     "height": 363
    },
    "id": "YM0Y76HAHzS5",
    "outputId": "255c4fab-dbd6-43fb-999b-5249777d982e"
   },
   "outputs": [
    {
     "data": {
      "text/html": [
       "<div>\n",
       "<style scoped>\n",
       "    .dataframe tbody tr th:only-of-type {\n",
       "        vertical-align: middle;\n",
       "    }\n",
       "\n",
       "    .dataframe tbody tr th {\n",
       "        vertical-align: top;\n",
       "    }\n",
       "\n",
       "    .dataframe thead th {\n",
       "        text-align: right;\n",
       "    }\n",
       "</style>\n",
       "<table border=\"1\" class=\"dataframe\">\n",
       "  <thead>\n",
       "    <tr style=\"text-align: right;\">\n",
       "      <th></th>\n",
       "      <th>Actual EV Count</th>\n",
       "      <th>Predicted EV Count</th>\n",
       "    </tr>\n",
       "  </thead>\n",
       "  <tbody>\n",
       "    <tr>\n",
       "      <th>0</th>\n",
       "      <td>1.0</td>\n",
       "      <td>1.0</td>\n",
       "    </tr>\n",
       "    <tr>\n",
       "      <th>1</th>\n",
       "      <td>1.0</td>\n",
       "      <td>1.0</td>\n",
       "    </tr>\n",
       "    <tr>\n",
       "      <th>2</th>\n",
       "      <td>1.0</td>\n",
       "      <td>1.0</td>\n",
       "    </tr>\n",
       "    <tr>\n",
       "      <th>3</th>\n",
       "      <td>1.0</td>\n",
       "      <td>1.0</td>\n",
       "    </tr>\n",
       "    <tr>\n",
       "      <th>4</th>\n",
       "      <td>1.0</td>\n",
       "      <td>1.0</td>\n",
       "    </tr>\n",
       "    <tr>\n",
       "      <th>5</th>\n",
       "      <td>1.0</td>\n",
       "      <td>1.0</td>\n",
       "    </tr>\n",
       "    <tr>\n",
       "      <th>6</th>\n",
       "      <td>1.0</td>\n",
       "      <td>1.0</td>\n",
       "    </tr>\n",
       "    <tr>\n",
       "      <th>7</th>\n",
       "      <td>1.0</td>\n",
       "      <td>1.0</td>\n",
       "    </tr>\n",
       "    <tr>\n",
       "      <th>8</th>\n",
       "      <td>1.0</td>\n",
       "      <td>1.0</td>\n",
       "    </tr>\n",
       "    <tr>\n",
       "      <th>9</th>\n",
       "      <td>1.0</td>\n",
       "      <td>1.0</td>\n",
       "    </tr>\n",
       "  </tbody>\n",
       "</table>\n",
       "</div>"
      ],
      "text/plain": [
       "   Actual EV Count  Predicted EV Count\n",
       "0              1.0                 1.0\n",
       "1              1.0                 1.0\n",
       "2              1.0                 1.0\n",
       "3              1.0                 1.0\n",
       "4              1.0                 1.0\n",
       "5              1.0                 1.0\n",
       "6              1.0                 1.0\n",
       "7              1.0                 1.0\n",
       "8              1.0                 1.0\n",
       "9              1.0                 1.0"
      ]
     },
     "execution_count": 28,
     "metadata": {},
     "output_type": "execute_result"
    }
   ],
   "source": [
    "# Create a DataFrame with actual and predicted values\n",
    "\n",
    "comparison_df = pd.DataFrame({\n",
    "    'Actual EV Count': y_test.values,\n",
    "    'Predicted EV Count': y_pred\n",
    "})\n",
    "\n",
    "# Round for readability\n",
    "comparison_df['Predicted EV Count'] = comparison_df['Predicted EV Count'].round(2)\n",
    "\n",
    "# Optionally reset index if needed\n",
    "comparison_df.reset_index(drop=True, inplace=True)\n",
    "\n",
    "# Show the first 10 rows\n",
    "comparison_df.head(10)"
   ]
  },
  {
   "cell_type": "markdown",
   "metadata": {
    "id": "99eRXkXVo5MO"
   },
   "source": [
    "**Actual vs Predicted EV Count**"
   ]
  },
  {
   "cell_type": "code",
   "execution_count": 29,
   "metadata": {
    "colab": {
     "base_uri": "https://localhost:8080/",
     "height": 614
    },
    "id": "hO4uQ8AspBaY",
    "outputId": "551e1cd7-e02d-4439-b4ec-e14209ec538c"
   },
   "outputs": [
    {
     "name": "stdout",
     "output_type": "stream",
     "text": [
      "MAE: 0.01, RMSE: 0.06, R2 Score: 1.00\n"
     ]
    },
    {
     "data": {
      "image/png": "[encoded data removed]",
      "text/plain": [
       "<Figure size 1000x600 with 1 Axes>"
      ]
     },
     "metadata": {},
     "output_type": "display_data"
    }
   ],
   "source": [
    "def evaluate(y_true, y_pred):\n",
    "    mae = mean_absolute_error(y_true, y_pred)\n",
    "    rmse = np.sqrt(mean_squared_error(y_true, y_pred))\n",
    "    r2Score = r2_score(y_true, y_pred)\n",
    "    print(f\"MAE: {mae:.2f}, RMSE: {rmse:.2f}, R2 Score: {r2Score:.2f}\")\n",
    "\n",
    "evaluate(y_test, y_pred)\n",
    "\n",
    "# Plot actual vs predicted\n",
    "plt.figure(figsize=(10,6))\n",
    "plt.plot(y_test.values, label='Actual')\n",
    "plt.plot(y_pred, label='Predicted')\n",
    "plt.title(\"Actual vs Predicted EV Count\")\n",
    "plt.xlabel(\"Sample Index\")\n",
    "plt.ylabel(\"EV Count\")\n",
    "plt.legend()\n",
    "plt.grid(True)\n",
    "plt.tight_layout()\n",
    "plt.show()"
   ]
  },
  {
   "cell_type": "markdown",
   "metadata": {
    "id": "URLlky2-ofzG"
   },
   "source": [
    "**Get Feature Importance**"
   ]
  },
  {
   "cell_type": "code",
   "execution_count": 30,
   "metadata": {
    "colab": {
     "base_uri": "https://localhost:8080/",
     "height": 487
    },
    "id": "7KMn1AMvizHG",
    "outputId": "779caf56-992a-4cc5-c3e1-8bf86dfcd3fb"
   },
   "outputs": [
    {
     "data": {
      "image/png": "[encoded data removed]",
      "text/plain": [
       "<Figure size 800x500 with 1 Axes>"
      ]
     },
     "metadata": {},
     "output_type": "display_data"
    }
   ],
   "source": [
    "# Corrected the attribute name from get_feature_importance() to feature_importances_\n",
    "importances = model.feature_importances_\n",
    "\n",
    "# Plot feature importance\n",
    "plt.figure(figsize=(8,5))\n",
    "plt.barh(features, importances)\n",
    "plt.xlabel('Importance Score')\n",
    "# Updated the title to reflect that the model is RandomForestRegressor\n",
    "plt.title('Feature Importance - RandomForestRegressor Model')\n",
    "plt.gca().invert_yaxis()  # Highest importance on top\n",
    "plt.show()"
   ]
  },
  {
   "cell_type": "markdown",
   "metadata": {
    "id": "bKh4fvgCu5Jv"
   },
   "source": [
    "The bar chart visualizes the relative importance of various input features in predicting EV adoption using a Random Forest Regressor. Each bar represents the contribution of a specific feature to the model's predictive power. Key insights include:\n",
    "\n",
    "Top Features:\n",
    "\n",
    "- ev_total_lag2 is the most influential feature, indicating that the EV count from two months prior is the strongest predictor of future EV adoption.\n",
    "\n",
    "- ev_total_lag1 and ev_growth_slope also have high importance, reflecting that recent trends and growth trajectories significantly affect predictions.\n",
    "\n",
    "Moderately Important:\n",
    "\n",
    "- ev_total_pct_change_1 (recent percentage change) and ev_total_lag3 (three-month lag) play supporting roles in forecasting.\n",
    "\n",
    "- ev_total_pct_change_3 has a smaller, yet noticeable impact.\n",
    "\n",
    "Least Important:\n",
    "\n",
    "- months_since_start, county_encoded, and ev_total_roll_mean_3 contribute very little to the model. This suggests that time index and county encoding have minimal standalone predictive value, and short rolling averages are less informative compared to lag features.\n",
    "\n",
    "Overall, the chart highlights that lag-based features and recent growth patterns are the most effective predictors of EV adoption in this model setup.\n",
    "\n"
   ]
  },
  {
   "cell_type": "markdown",
   "metadata": {
    "id": "OaBkWA4AtrqA"
   },
   "source": [
    " A good growth rate, especially in technology, is subjective and depends on the specific context, but generally, anything above 10% per year is considered a strong growth rate.  In the electric vehicle (EV) market, as per [Fortune Business Insights](https://www.fortunebusinessinsights.com/industry-reports/electric-vehicle-market-101678) suggests a 13.8% CAGR between 2024 and 2032."
   ]
  },
  {
   "cell_type": "markdown",
   "metadata": {
    "id": "xtzU_VatKiKr"
   },
   "source": [
    "### Forecasting with Regression Model for Next 3 Years"
   ]
  },
  {
   "cell_type": "markdown",
   "metadata": {
    "id": "nDB9pzSCVqfW"
   },
   "source": [
    "**Forecasting total eletric vehicles for a specific county (e.g., Clark)**"
   ]
  },
  {
   "cell_type": "code",
   "execution_count": 31,
   "metadata": {
    "colab": {
     "base_uri": "https://localhost:8080/"
    },
    "id": "2Kk5_Hy3vbHD",
    "outputId": "516a3cd5-7128-4da8-cf2a-da6d1d742f3c"
   },
   "outputs": [
    {
     "name": "stdout",
     "output_type": "stream",
     "text": [
      "List of unique counties:\n",
      "['Ada' 'Adams' 'Alameda' 'Albemarle' 'Alexandria' 'Allegheny' 'Allen'\n",
      " 'Anchorage' 'Anne Arundel' 'Arapahoe' 'Arlington' 'Atlantic' 'Autauga'\n",
      " 'Baltimore' 'Bartow' 'Beaufort' 'Bell' 'Bergen' 'Berkeley' 'Berkshire'\n",
      " 'Bexar' 'Boone' 'Boulder' 'Bradley' 'Brevard' 'Broward' 'Bryan' 'Bucks'\n",
      " 'Burlington' 'Caddo' 'Calvert' 'Camden' 'Canyon' 'Carroll' 'Carson City'\n",
      " 'Cascade' 'Champaign' 'Charles' 'Charleston' 'Charlottesville'\n",
      " 'Chesapeake' 'Clackamas' 'Clay' 'Clinton' 'Cobb' 'Cochise' 'Collier'\n",
      " 'Collin' 'Columbia' 'Contra Costa' 'Cook' 'Coryell' 'Cumberland'\n",
      " 'Currituck' 'Dakota' 'Dale' 'Dallas' 'Dane' 'Danville' 'DeKalb' 'Denton'\n",
      " 'Denver' 'Deschutes' 'District of Columbia' 'Dorchester' 'Douglas'\n",
      " 'DuPage' 'Duval' 'Eagle' 'Eau Claire' 'El Dorado' 'El Paso' 'Escambia'\n",
      " 'Essex' 'Fairbanks North Star' 'Fairfax' 'Flathead' 'Fort Bend'\n",
      " 'Franklin' 'Frederick' 'Fresno' 'Fulton' 'Galveston' 'Garfield' 'Geary'\n",
      " 'Goochland' 'Greene' 'Guadalupe' 'Gwinnett' 'Hamilton' 'Hampshire'\n",
      " 'Hardin' 'Harford' 'Harnett' 'Harris' 'Harrison' 'Hawaii' 'Hennepin'\n",
      " 'Henrico' 'Hillsborough' 'Honolulu' 'Houston' 'Howard' 'Hudson' 'Jackson'\n",
      " 'James City' 'Jefferson' 'Jones' 'Juneau' 'Kalamazoo' 'Kauai' 'Kent'\n",
      " 'Kern' 'Kings' 'Klamath' 'Kootenai' 'Lake' 'Lane' 'Laramie' 'Larimer'\n",
      " 'Las Animas' 'Latah' 'Leavenworth' 'Lee' 'Lewis' 'Lincoln' 'Los Angeles'\n",
      " 'Loudoun' 'Louisa' 'Lumpkin' 'Madison' 'Manassas' 'Manatee' 'Maricopa'\n",
      " 'Marin' 'Marion' 'Maui' 'Meade' 'Mecklenburg' 'Mercer' 'Miami-Dade'\n",
      " 'Middlesex' 'Milwaukee' 'Missoula' 'Mobile' 'Monroe' 'Monterey'\n",
      " 'Montgomery' 'Moore' 'Morris' 'Multnomah' 'Muscogee' 'Nantucket' 'Napa'\n",
      " 'Nassau' 'New Haven' 'New London' 'New York' 'Newport' 'Newport News'\n",
      " 'Norfolk' 'Northampton' 'Nueces' 'Okaloosa' 'Oklahoma' 'Oldham' 'Onslow'\n",
      " 'Orange' 'Orleans' 'Osceola' 'Otero' 'Owyhee' 'Palm Beach' 'Parker'\n",
      " 'Pennington' 'Penobscot' 'Philadelphia' 'Pima' 'Pinal' 'Pinellas'\n",
      " 'Placer' 'Plaquemines' 'Platte' 'Polk' 'Portsmouth' 'Powhatan'\n",
      " 'Prince George' \"Prince George's\" 'Prince William' 'Providence' 'Pulaski'\n",
      " 'Putnam' 'Queens' 'Ramsey' 'Randolph' 'Ray' 'Richland' 'Richmond'\n",
      " 'Riverside' 'Rock Island' 'Rockdale' 'Rockingham' 'Rogers'\n",
      " 'RÃ\\xado Grande' 'Sacramento' 'Saginaw' 'Salt Lake' 'San Bernardino'\n",
      " 'San Francisco' 'San Joaquin' 'San Juan' 'San Luis Obispo' 'San Mateo'\n",
      " 'Sangamon' 'Santa Clara' 'Santa Cruz' 'Santa Fe' 'Santa Rosa' 'Sarasota'\n",
      " 'Saratoga' 'Sarpy' 'Sedgwick' 'Sevier' 'Shasta' 'Shelby' 'Sheridan'\n",
      " 'Solano' 'Sonoma' 'Spartanburg' 'St. Clair' 'St. Lawrence' 'St. Louis'\n",
      " 'St. Lucie' \"St. Mary's\" 'Stafford' 'Suffolk' 'Sumter' 'Tarrant' 'Texas'\n",
      " 'Tooele' 'Travis' 'Tulare' 'Tulsa' 'Twin Falls' 'Ulster' 'Unknown' 'Utah'\n",
      " 'Valencia' 'Ventura' 'Vigo' 'Virginia Beach' 'Volusia' 'Wake'\n",
      " 'Washington' 'Washoe' 'Washtenaw' 'Wayne' 'Wichita' 'Williams'\n",
      " 'Williamsburg' 'Williamson' 'Wilson' 'Wood' 'Yamhill' 'Yavapai'\n",
      " 'Yellowstone' 'Yolo' 'York' 'Yuba']\n",
      "Total unique counties: 269\n"
     ]
    }
   ],
   "source": [
    "# Define features and target\n",
    "featuresX = ['County', 'county_encoded']\n",
    "\n",
    "countyX = df[featuresX]\n",
    "\n",
    "\n",
    "print(\"List of unique counties:\")\n",
    "print(df['County'].dropna().unique())\n",
    "\n",
    "print(\"Total unique counties:\", df['County'].nunique())"
   ]
  },
  {
   "cell_type": "code",
   "execution_count": 32,
   "metadata": {
    "colab": {
     "base_uri": "https://localhost:8080/",
     "height": 517
    },
    "id": "vepAZrJLVbd2",
    "outputId": "17067a4f-3a6e-4165-f408-d3880370736c"
   },
   "outputs": [
    {
     "name": "stdout",
     "output_type": "stream",
     "text": [
      "County 'Kings' encoded as 130.\n"
     ]
    },
    {
     "data": {
      "image/png": "[encoded data removed]",
      "text/plain": [
       "<Figure size 1200x600 with 1 Axes>"
      ]
     },
     "metadata": {},
     "output_type": "display_data"
    }
   ],
   "source": [
    "# Set your county name\n",
    "county = \"Kings\"\n",
    "\n",
    "# Encode county\n",
    "try:\n",
    "    county_code = le.transform([county])[0]\n",
    "    print(f\"County '{county}' encoded as {county_code}.\")\n",
    "except ValueError:\n",
    "    print(f\"Error: '{county}' not found in LabelEncoder.\")\n",
    "    exit()\n",
    "\n",
    "# Filter historical data\n",
    "county_df = df[df['county_encoded'] == county_code].sort_values(\"numeric_date\")\n",
    "if county_df.empty:\n",
    "    print(f\"Warning: No data found for county '{county}'.\")\n",
    "    exit()\n",
    "\n",
    "# Prepare EV history\n",
    "historical_ev = list(county_df['Electric Vehicle (EV) Total'].values[-6:])\n",
    "cumulative_ev = list(np.cumsum(historical_ev))\n",
    "slope_history = []\n",
    "months_since_start = county_df['months_since_start'].max()\n",
    "\n",
    "historical = county_df[['year', 'month', 'numeric_date', 'Electric Vehicle (EV) Total', 'months_since_start']].copy()\n",
    "historical['Source'] = 'Historical'\n",
    "historical['Date'] = pd.to_datetime(historical[['year', 'month']].assign(day=1))\n",
    "\n",
    "# Forecast next 36 months\n",
    "latest_row = county_df.iloc[-1].copy()\n",
    "future_rows = []\n",
    "\n",
    "for i in range(1, 37):\n",
    "    next_date = pd.to_datetime(latest_row['year'] * 100 + latest_row['month'], format='%Y%m') + pd.DateOffset(months=1)\n",
    "    y, m = next_date.year, next_date.month\n",
    "    numeric_date = y * 12 + m\n",
    "    months_since_start += 1\n",
    "\n",
    "    lag1, lag2, lag3 = historical_ev[-1], historical_ev[-2], historical_ev[-3]\n",
    "    roll_mean = np.mean([lag1, lag2, lag3])\n",
    "    pct_change_1 = (lag1 - lag2) / lag2 if lag2 != 0 else 0\n",
    "    pct_change_3 = (lag1 - lag3) / lag3 if lag3 != 0 else 0\n",
    "\n",
    "    # Compute slope\n",
    "    recent_cumulative = cumulative_ev[-6:]\n",
    "    ev_growth_slope = np.polyfit(range(len(recent_cumulative)), recent_cumulative, 1)[0] if len(recent_cumulative) == 6 else 0\n",
    "\n",
    "    # Construct new row (removed year/month/numeric_date/acceleration)\n",
    "    new_row = {\n",
    "        'months_since_start': months_since_start,\n",
    "        'county_encoded': county_code,\n",
    "        'ev_total_lag1': lag1,\n",
    "        'ev_total_lag2': lag2,\n",
    "        'ev_total_lag3': lag3,\n",
    "        'ev_total_roll_mean_3': roll_mean,\n",
    "        'ev_total_pct_change_1': pct_change_1,\n",
    "        'ev_total_pct_change_3': pct_change_3,\n",
    "        'ev_growth_slope': ev_growth_slope\n",
    "    }\n",
    "\n",
    "    # Predict\n",
    "    X_new = pd.DataFrame([new_row])[features]\n",
    "    pred = model.predict(X_new)[0]\n",
    "    new_row['Electric Vehicle (EV) Total'] = pred\n",
    "\n",
    "    # Update rolling histories\n",
    "    historical_ev.append(pred)\n",
    "    if len(historical_ev) > 6:\n",
    "        historical_ev.pop(0)\n",
    "\n",
    "    cumulative_ev.append(cumulative_ev[-1] + pred)\n",
    "    if len(cumulative_ev) > 6:\n",
    "        cumulative_ev.pop(0)\n",
    "\n",
    "    future_rows.append({\n",
    "        'Date': next_date,\n",
    "        'Electric Vehicle (EV) Total': pred,\n",
    "        'months_since_start': months_since_start,\n",
    "        'Source': 'Forecast'\n",
    "    })\n",
    "\n",
    "    latest_row['year'], latest_row['month'] = y, m\n",
    "\n",
    "# Forecast DataFrame\n",
    "forecast_df = pd.DataFrame(future_rows)\n",
    "\n",
    "# Combine and plot\n",
    "historical['Date'] = pd.to_datetime(historical[['year', 'month']].assign(day=1))\n",
    "historical = historical[['Date', 'Electric Vehicle (EV) Total', 'months_since_start', 'Source']]\n",
    "combined = pd.concat([historical, forecast_df], ignore_index=True)\n",
    "\n",
    "# Plot\n",
    "plt.figure(figsize=(12, 6))\n",
    "for source, group in combined.groupby('Source'):\n",
    "    plt.plot(group['Date'], group['Electric Vehicle (EV) Total'], label=source,\n",
    "             marker='o' if source == 'Forecast' else '.', linestyle='-' if source == 'Forecast' else '--')\n",
    "\n",
    "plt.title(f\"EV Adoption Forecast vs Historical - {county} County (Monthly Forecast for 3 Years)\")\n",
    "plt.xlabel(\"Date\")\n",
    "plt.ylabel(\"EV Count\")\n",
    "plt.grid(True)\n",
    "plt.legend()\n",
    "plt.tight_layout()\n",
    "plt.show()"
   ]
  },
  {
   "cell_type": "code",
   "execution_count": 33,
   "metadata": {
    "colab": {
     "base_uri": "https://localhost:8080/",
     "height": 500
    },
    "id": "SDURDxZNjYrE",
    "outputId": "5815cfa3-5fe6-4d25-9b8d-71e42e701998"
   },
   "outputs": [
    {
     "data": {
      "image/png": "[encoded data removed]",
      "text/plain": [
       "<Figure size 1200x600 with 1 Axes>"
      ]
     },
     "metadata": {},
     "output_type": "display_data"
    }
   ],
   "source": [
    "# --- Sort by date to ensure proper cumulative behavior ---\n",
    "combined = combined.sort_values(\"Date\")\n",
    "\n",
    "# --- Calculate cumulative EV count ---\n",
    "combined['Cumulative EVs'] = combined['Electric Vehicle (EV) Total'].cumsum()\n",
    "\n",
    "# --- Plot cumulative EV adoption ---\n",
    "plt.figure(figsize=(12, 6))\n",
    "for source, group in combined.groupby('Source'):\n",
    "    plt.plot(group['Date'], group['Cumulative EVs'], label=f'{source} (Cumulative)',\n",
    "             marker='o' if source == 'Forecast' else '.', linestyle='-' if source == 'Forecast' else '--')\n",
    "\n",
    "plt.title(f\"Cumulative EV Adoption - {county} County\")\n",
    "plt.xlabel(\"Date\")\n",
    "plt.ylabel(\"Cumulative EV Count\")\n",
    "plt.grid(True)\n",
    "plt.legend()\n",
    "plt.tight_layout()\n",
    "plt.show()"
   ]
  },
  {
   "cell_type": "markdown",
   "metadata": {
    "id": "Ld5krLM4iS4N"
   },
   "source": [
    "From 2020 to the end of 2023, Kings County experienced a steady and accelerating growth in EV adoption. The cumulative count increased consistently, indicating a positive trend in EV acceptance among residents.\n",
    "\n",
    "The forecast projects a continued linear growth in EV adoption from 2024 through 2027. The projection suggests no significant slowdown, with the cumulative EV count potentially doubling within this period.\n",
    "\n",
    "This anticipated growth may require expanded EV infrastructure, including charging stations, grid upgrades, and maintenance services to support the rising demand."
   ]
  },
  {
   "cell_type": "markdown",
   "metadata": {
    "id": "b3uH1hCc0lZa"
   },
   "source": [
    "**Forecasting for Top-5 Counties**"
   ]
  },
  {
   "cell_type": "code",
   "execution_count": null,
   "metadata": {
    "colab": {
     "base_uri": "https://localhost:8080/",
     "height": 500
    },
    "id": "KzpRZUPfjx1k",
    "outputId": "cefaab38-d703-4645-e05b-ec49a9f0528f"
   },
   "outputs": [],
   "source": [
    "forecast_horizon = 36  # 3 years = 36 months\n",
    "\n",
    "all_combined = []\n",
    "unique_counties = df['County'].dropna().unique()\n",
    "\n",
    "for county in unique_counties:\n",
    "    try:\n",
    "        county_code = le.transform([county])[0]\n",
    "    except ValueError:\n",
    "        continue\n",
    "\n",
    "    county_df = df[df['county_encoded'] == county_code].sort_values(\"numeric_date\")\n",
    "    if county_df.empty or county_df.shape[0] < 6:\n",
    "        continue\n",
    "\n",
    "    # Extract initial months_since_start\n",
    "    months_since_start = county_df['months_since_start'].max()\n",
    "\n",
    "    historical = county_df[['Date', 'Electric Vehicle (EV) Total', 'months_since_start']].copy()\n",
    "    historical['Source'] = 'Historical'\n",
    "    historical['County'] = county\n",
    "\n",
    "    historical_ev = list(county_df['Electric Vehicle (EV) Total'].values[-6:])\n",
    "    cumulative_ev = list(np.cumsum(historical_ev))\n",
    "    slope_history = []\n",
    "\n",
    "    future_rows = []\n",
    "\n",
    "    for _ in range(forecast_horizon):\n",
    "        months_since_start += 1\n",
    "\n",
    "        lag1, lag2, lag3 = historical_ev[-1], historical_ev[-2], historical_ev[-3]\n",
    "        roll_mean = np.mean([lag1, lag2, lag3])\n",
    "        pct_change_1 = (lag1 - lag2) / lag2 if lag2 != 0 else 0\n",
    "        pct_change_3 = (lag1 - lag3) / lag3 if lag3 != 0 else 0\n",
    "\n",
    "        recent_cumulative = cumulative_ev[-6:]\n",
    "        ev_growth_slope = np.polyfit(range(len(recent_cumulative)), recent_cumulative, 1)[0] if len(recent_cumulative) == 6 else 0\n",
    "\n",
    "        # Optional: track slope history for acceleration (not used here)\n",
    "        slope_history.append(ev_growth_slope)\n",
    "        if len(slope_history) > 2:\n",
    "            slope_history.pop(0)\n",
    "\n",
    "        new_row = {\n",
    "            'months_since_start': months_since_start,\n",
    "            'county_encoded': county_code,\n",
    "            'ev_total_lag1': lag1,\n",
    "            'ev_total_lag2': lag2,\n",
    "            'ev_total_lag3': lag3,\n",
    "            'ev_total_roll_mean_3': roll_mean,\n",
    "            'ev_total_pct_change_1': pct_change_1,\n",
    "            'ev_total_pct_change_3': pct_change_3,\n",
    "            'ev_growth_slope': ev_growth_slope\n",
    "        }\n",
    "\n",
    "        # Predict\n",
    "        X_new = pd.DataFrame([new_row])[features]\n",
    "        pred = model.predict(X_new)[0]\n",
    "        new_row['Electric Vehicle (EV) Total'] = pred\n",
    "\n",
    "        # Store for plotting\n",
    "        forecast_date = historical['Date'].max() + pd.DateOffset(months=len(future_rows) + 1)\n",
    "        future_rows.append({\n",
    "            'Date': forecast_date,\n",
    "            'Electric Vehicle (EV) Total': pred,\n",
    "            'months_since_start': months_since_start,\n",
    "            'County': county,\n",
    "            'Source': 'Forecast'\n",
    "        })\n",
    "\n",
    "        # Update EV history\n",
    "        historical_ev.append(pred)\n",
    "        if len(historical_ev) > 6:\n",
    "            historical_ev.pop(0)\n",
    "\n",
    "        cumulative_ev.append(cumulative_ev[-1] + pred)\n",
    "        if len(cumulative_ev) > 6:\n",
    "            cumulative_ev.pop(0)\n",
    "\n",
    "    forecast_df = pd.DataFrame(future_rows)\n",
    "    combined = pd.concat([historical, forecast_df], ignore_index=True)\n",
    "    combined = combined.sort_values(\"Date\")\n",
    "    combined['Cumulative EVs'] = combined['Electric Vehicle (EV) Total'].cumsum()\n",
    "\n",
    "    all_combined.append(combined)\n",
    "\n",
    "# Combine all counties\n",
    "full_df = pd.concat(all_combined)\n",
    "\n",
    "# Get final cumulative EV count per county\n",
    "final_totals = full_df.groupby('County')['Cumulative EVs'].max().sort_values(ascending=False)\n",
    "top_5_counties = final_totals.head(5).index.tolist()\n",
    "\n",
    "# Filter top 5 counties\n",
    "top_5_df = full_df[full_df['County'].isin(top_5_counties)]\n",
    "\n",
    "# Plot\n",
    "plt.figure(figsize=(14, 7))\n",
    "for county, group in top_5_df.groupby('County'):\n",
    "    plt.plot(group['Date'], group['Cumulative EVs'], label=county, marker='o')\n",
    "\n",
    "# Format x-axis to show one tick per year\n",
    "plt.title(\"Top 5 Counties by Cumulative EV Adoption (Historical + 3-Year Forecast)\")\n",
    "plt.xlabel(\"Date\")\n",
    "plt.ylabel(\"Cumulative EV Count\")\n",
    "plt.grid(True)\n",
    "plt.legend(title=\"County\")\n",
    "plt.xticks(\n",
    "    ticks=pd.date_range(start=top_5_df['Date'].min(), end=top_5_df['Date'].max(), freq='YS'),\n",
    "    labels=[str(d.year) for d in pd.date_range(start=top_5_df['Date'].min(), end=top_5_df['Date'].max(), freq='YS')],\n",
    "    rotation=0\n",
    ")\n",
    "plt.tight_layout()\n",
    "plt.show()"
   ]
  },
  {
   "cell_type": "markdown",
   "metadata": {
    "id": "Q-ntTjIMjMoU"
   },
   "source": [
    "The graph compares the historical and projected cumulative electric vehicle (EV) adoption trends for the top 5 U.S. counties—Santa Clara, Fairfax, Orange, Honolulu, and Los Angeles—from around 2017 to 2027.\n",
    "\n",
    "🔍 Key Observations:\n",
    "- Santa Clara County (Purple Line):\n",
    "\n",
    "  Leads in EV adoption overall.\n",
    "\n",
    "  Demonstrates a strong and steady growth trajectory, continuing into the forecast period.\n",
    "\n",
    "- Fairfax County (Blue Line):\n",
    "\n",
    "  Shows consistent acceleration, overtaking others around 2025.\n",
    "\n",
    "- Orange County (Red Line):\n",
    "\n",
    "  Had a rapid growth phase, but its forecast shows flattening after 2024.\n",
    "\n",
    "- Honolulu County (Orange Line):\n",
    "\n",
    "  Exhibits moderate but stable growth, suggesting steady but slower adoption.\n",
    "\n",
    "  May reflect geographical constraints or limited incentives.\n",
    "\n",
    "- Los Angeles County (Green Line):\n",
    "\n",
    "  Adoption started later but shows strong upward momentum.\n",
    "\n",
    "  The forecast predicts continued growth but at a slower rate than Santa Clara or Fairfax.\n",
    "\n",
    "Santa Clara and Fairfax are expected to dominate EV adoption through 2027, with both maintaining strong momentum. Meanwhile, Orange County may face a plateau, and Honolulu and Los Angeles will likely continue on steady but less aggressive growth trajectories. These trends can inform regional planning, charging infrastructure deployment, and policy decisions tailored to each county's adoption pace."
   ]
  },
  {
   "cell_type": "markdown",
   "metadata": {
    "id": "QajbGMeIz6p0"
   },
   "source": [
    "### Final Model Testing and Save the Model"
   ]
  },
  {
   "cell_type": "code",
   "execution_count": null,
   "metadata": {
    "colab": {
     "base_uri": "https://localhost:8080/"
    },
    "id": "Js-fK7Viz790",
    "outputId": "22ba3665-d05f-48df-d97d-9c524f84ca04"
   },
   "outputs": [],
   "source": [
    "import joblib\n",
    "\n",
    "# Save the trained model to file\n",
    "joblib.dump(model, 'forecasting_ev_model.pkl')\n",
    "print(\"Model saved to 'forecasting_ev_model.pkl'\")"
   ]
  },
  {
   "cell_type": "code",
   "execution_count": null,
   "metadata": {
    "colab": {
     "base_uri": "https://localhost:8080/"
    },
    "id": "ylplq2QxIgY0",
    "outputId": "ac3f1d84-f666-4134-c764-13e19d7ddabc"
   },
   "outputs": [],
   "source": [
    "# Load model from file\n",
    "loaded_model = joblib.load('forecasting_ev_model.pkl')\n",
    "print(\"Model loaded successfully.\")"
   ]
  },
  {
   "cell_type": "code",
   "execution_count": null,
   "metadata": {
    "colab": {
     "base_uri": "https://localhost:8080/"
    },
    "id": "DgMgLv8s0jI8",
    "outputId": "e97c0995-bf69-401d-9737-a687736d2790"
   },
   "outputs": [],
   "source": [
    "# Make predictions\n",
    "# Test prediction on new or existing sample\n",
    "sample = X_test.iloc[[0]]  # use one row as test\n",
    "true_value = y_test.iloc[0]\n",
    "predicted_value = loaded_model.predict(sample)[0]\n",
    "\n",
    "print(f\"\\n🔍 Testing saved model on 1 sample:\")\n",
    "print(f\"Actual EVs: {true_value:.2f}, Predicted EVs: {predicted_value:.2f}\")"
   ]
  },
  {
   "cell_type": "markdown",
   "metadata": {},
   "source": [
    "### by Raghav"
   ]
  }
 ],
 "metadata": {
  "accelerator": "GPU",
  "colab": {
   "gpuType": "T4",
   "provenance": []
  },
  "kernelspec": {
   "display_name": "Python 3 (ipykernel)",
   "language": "python",
   "name": "python3"
  },
  "language_info": {
   "codemirror_mode": {
    "name": "ipython",
    "version": 3
   },
   "file_extension": ".py",
   "mimetype": "text/x-python",
   "name": "python",
   "nbconvert_exporter": "python",
   "pygments_lexer": "ipython3",
   "version": "3.12.7"
  }
 },
 "nbformat": 4,
 "nbformat_minor": 4
}
